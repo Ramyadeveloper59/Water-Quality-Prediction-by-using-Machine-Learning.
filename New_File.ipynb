{
 "cells": [
  {
   "cell_type": "markdown",
   "id": "f6e08d61",
   "metadata": {},
   "source": [
    "# Water Quality Prediction by using Machine Learning"
   ]
  },
  {
   "cell_type": "markdown",
   "id": "2069ba53",
   "metadata": {},
   "source": [
    "# Package Importing"
   ]
  },
  {
   "cell_type": "code",
   "execution_count": 32,
   "id": "b7c09190",
   "metadata": {},
   "outputs": [],
   "source": [
    "import numpy as np\n",
    "import pandas as pd\n",
    "import matplotlib.pyplot as plt\n",
    "import seaborn as sns"
   ]
  },
  {
   "cell_type": "code",
   "execution_count": 33,
   "id": "92d6a962",
   "metadata": {},
   "outputs": [],
   "source": [
    "import warnings\n",
    "warnings.filterwarnings('ignore')"
   ]
  },
  {
   "cell_type": "markdown",
   "id": "584f0cf5",
   "metadata": {},
   "source": [
    "# Dataset Reading"
   ]
  },
  {
   "cell_type": "code",
   "execution_count": 34,
   "id": "9b4fa5b9",
   "metadata": {},
   "outputs": [
    {
     "data": {
      "text/html": [
       "<div>\n",
       "<style scoped>\n",
       "    .dataframe tbody tr th:only-of-type {\n",
       "        vertical-align: middle;\n",
       "    }\n",
       "\n",
       "    .dataframe tbody tr th {\n",
       "        vertical-align: top;\n",
       "    }\n",
       "\n",
       "    .dataframe thead th {\n",
       "        text-align: right;\n",
       "    }\n",
       "</style>\n",
       "<table border=\"1\" class=\"dataframe\">\n",
       "  <thead>\n",
       "    <tr style=\"text-align: right;\">\n",
       "      <th></th>\n",
       "      <th>PH</th>\n",
       "      <th>Turbidity</th>\n",
       "      <th>temperature</th>\n",
       "      <th>Potability</th>\n",
       "    </tr>\n",
       "  </thead>\n",
       "  <tbody>\n",
       "    <tr>\n",
       "      <th>0</th>\n",
       "      <td>3.716080</td>\n",
       "      <td>2.963135</td>\n",
       "      <td>4.3</td>\n",
       "      <td>0</td>\n",
       "    </tr>\n",
       "    <tr>\n",
       "      <th>1</th>\n",
       "      <td>8.099124</td>\n",
       "      <td>4.500656</td>\n",
       "      <td>5.9</td>\n",
       "      <td>0</td>\n",
       "    </tr>\n",
       "    <tr>\n",
       "      <th>2</th>\n",
       "      <td>8.316766</td>\n",
       "      <td>3.055934</td>\n",
       "      <td>4.3</td>\n",
       "      <td>0</td>\n",
       "    </tr>\n",
       "    <tr>\n",
       "      <th>3</th>\n",
       "      <td>9.092223</td>\n",
       "      <td>4.628771</td>\n",
       "      <td>7.5</td>\n",
       "      <td>0</td>\n",
       "    </tr>\n",
       "    <tr>\n",
       "      <th>4</th>\n",
       "      <td>5.584087</td>\n",
       "      <td>4.075075</td>\n",
       "      <td>4.5</td>\n",
       "      <td>0</td>\n",
       "    </tr>\n",
       "    <tr>\n",
       "      <th>5</th>\n",
       "      <td>10.223862</td>\n",
       "      <td>2.559708</td>\n",
       "      <td>3.9</td>\n",
       "      <td>0</td>\n",
       "    </tr>\n",
       "    <tr>\n",
       "      <th>6</th>\n",
       "      <td>8.635849</td>\n",
       "      <td>2.672989</td>\n",
       "      <td>5.4</td>\n",
       "      <td>0</td>\n",
       "    </tr>\n",
       "    <tr>\n",
       "      <th>7</th>\n",
       "      <td>11.180284</td>\n",
       "      <td>4.401425</td>\n",
       "      <td>4.3</td>\n",
       "      <td>0</td>\n",
       "    </tr>\n",
       "    <tr>\n",
       "      <th>8</th>\n",
       "      <td>7.360640</td>\n",
       "      <td>3.595017</td>\n",
       "      <td>5.9</td>\n",
       "      <td>0</td>\n",
       "    </tr>\n",
       "    <tr>\n",
       "      <th>9</th>\n",
       "      <td>7.974522</td>\n",
       "      <td>4.370562</td>\n",
       "      <td>4.3</td>\n",
       "      <td>0</td>\n",
       "    </tr>\n",
       "    <tr>\n",
       "      <th>10</th>\n",
       "      <td>7.119824</td>\n",
       "      <td>3.662292</td>\n",
       "      <td>7.5</td>\n",
       "      <td>0</td>\n",
       "    </tr>\n",
       "    <tr>\n",
       "      <th>11</th>\n",
       "      <td>7.496232</td>\n",
       "      <td>4.011718</td>\n",
       "      <td>4.5</td>\n",
       "      <td>0</td>\n",
       "    </tr>\n",
       "    <tr>\n",
       "      <th>12</th>\n",
       "      <td>6.347272</td>\n",
       "      <td>3.445756</td>\n",
       "      <td>3.9</td>\n",
       "      <td>0</td>\n",
       "    </tr>\n",
       "    <tr>\n",
       "      <th>13</th>\n",
       "      <td>7.051786</td>\n",
       "      <td>4.413974</td>\n",
       "      <td>5.4</td>\n",
       "      <td>0</td>\n",
       "    </tr>\n",
       "    <tr>\n",
       "      <th>14</th>\n",
       "      <td>9.181560</td>\n",
       "      <td>4.777382</td>\n",
       "      <td>4.3</td>\n",
       "      <td>0</td>\n",
       "    </tr>\n",
       "    <tr>\n",
       "      <th>15</th>\n",
       "      <td>8.975464</td>\n",
       "      <td>4.376348</td>\n",
       "      <td>5.9</td>\n",
       "      <td>0</td>\n",
       "    </tr>\n",
       "    <tr>\n",
       "      <th>16</th>\n",
       "      <td>7.371050</td>\n",
       "      <td>4.268429</td>\n",
       "      <td>4.3</td>\n",
       "      <td>0</td>\n",
       "    </tr>\n",
       "    <tr>\n",
       "      <th>17</th>\n",
       "      <td>6.660212</td>\n",
       "      <td>4.503661</td>\n",
       "      <td>7.5</td>\n",
       "      <td>0</td>\n",
       "    </tr>\n",
       "    <tr>\n",
       "      <th>18</th>\n",
       "      <td>3.902476</td>\n",
       "      <td>2.436086</td>\n",
       "      <td>4.5</td>\n",
       "      <td>0</td>\n",
       "    </tr>\n",
       "    <tr>\n",
       "      <th>19</th>\n",
       "      <td>5.400302</td>\n",
       "      <td>2.560299</td>\n",
       "      <td>3.9</td>\n",
       "      <td>0</td>\n",
       "    </tr>\n",
       "    <tr>\n",
       "      <th>20</th>\n",
       "      <td>6.514415</td>\n",
       "      <td>4.133423</td>\n",
       "      <td>5.4</td>\n",
       "      <td>0</td>\n",
       "    </tr>\n",
       "    <tr>\n",
       "      <th>21</th>\n",
       "      <td>3.445062</td>\n",
       "      <td>3.749701</td>\n",
       "      <td>4.3</td>\n",
       "      <td>0</td>\n",
       "    </tr>\n",
       "    <tr>\n",
       "      <th>22</th>\n",
       "      <td>7.181449</td>\n",
       "      <td>5.459251</td>\n",
       "      <td>5.9</td>\n",
       "      <td>0</td>\n",
       "    </tr>\n",
       "    <tr>\n",
       "      <th>23</th>\n",
       "      <td>9.825490</td>\n",
       "      <td>4.528523</td>\n",
       "      <td>4.3</td>\n",
       "      <td>0</td>\n",
       "    </tr>\n",
       "    <tr>\n",
       "      <th>24</th>\n",
       "      <td>10.433291</td>\n",
       "      <td>4.824786</td>\n",
       "      <td>7.5</td>\n",
       "      <td>1</td>\n",
       "    </tr>\n",
       "    <tr>\n",
       "      <th>25</th>\n",
       "      <td>7.414148</td>\n",
       "      <td>5.200885</td>\n",
       "      <td>4.5</td>\n",
       "      <td>1</td>\n",
       "    </tr>\n",
       "    <tr>\n",
       "      <th>26</th>\n",
       "      <td>5.115817</td>\n",
       "      <td>4.184397</td>\n",
       "      <td>3.9</td>\n",
       "      <td>1</td>\n",
       "    </tr>\n",
       "    <tr>\n",
       "      <th>27</th>\n",
       "      <td>3.641630</td>\n",
       "      <td>4.004871</td>\n",
       "      <td>5.4</td>\n",
       "      <td>1</td>\n",
       "    </tr>\n",
       "    <tr>\n",
       "      <th>28</th>\n",
       "      <td>5.618064</td>\n",
       "      <td>3.991564</td>\n",
       "      <td>4.1</td>\n",
       "      <td>1</td>\n",
       "    </tr>\n",
       "    <tr>\n",
       "      <th>29</th>\n",
       "      <td>9.267188</td>\n",
       "      <td>6.038185</td>\n",
       "      <td>5.7</td>\n",
       "      <td>1</td>\n",
       "    </tr>\n",
       "    <tr>\n",
       "      <th>30</th>\n",
       "      <td>5.331940</td>\n",
       "      <td>5.088860</td>\n",
       "      <td>3.6</td>\n",
       "      <td>1</td>\n",
       "    </tr>\n",
       "    <tr>\n",
       "      <th>31</th>\n",
       "      <td>7.145772</td>\n",
       "      <td>2.857472</td>\n",
       "      <td>7.3</td>\n",
       "      <td>1</td>\n",
       "    </tr>\n",
       "    <tr>\n",
       "      <th>32</th>\n",
       "      <td>9.920691</td>\n",
       "      <td>5.057311</td>\n",
       "      <td>4.2</td>\n",
       "      <td>1</td>\n",
       "    </tr>\n",
       "    <tr>\n",
       "      <th>33</th>\n",
       "      <td>4.758439</td>\n",
       "      <td>3.160624</td>\n",
       "      <td>3.7</td>\n",
       "      <td>1</td>\n",
       "    </tr>\n",
       "    <tr>\n",
       "      <th>34</th>\n",
       "      <td>5.702926</td>\n",
       "      <td>5.029167</td>\n",
       "      <td>5.4</td>\n",
       "      <td>1</td>\n",
       "    </tr>\n",
       "    <tr>\n",
       "      <th>35</th>\n",
       "      <td>6.953864</td>\n",
       "      <td>3.902089</td>\n",
       "      <td>4.1</td>\n",
       "      <td>1</td>\n",
       "    </tr>\n",
       "    <tr>\n",
       "      <th>36</th>\n",
       "      <td>10.682966</td>\n",
       "      <td>3.464353</td>\n",
       "      <td>5.7</td>\n",
       "      <td>1</td>\n",
       "    </tr>\n",
       "    <tr>\n",
       "      <th>37</th>\n",
       "      <td>8.757257</td>\n",
       "      <td>2.896547</td>\n",
       "      <td>3.6</td>\n",
       "      <td>1</td>\n",
       "    </tr>\n",
       "    <tr>\n",
       "      <th>38</th>\n",
       "      <td>7.809632</td>\n",
       "      <td>2.907564</td>\n",
       "      <td>7.3</td>\n",
       "      <td>1</td>\n",
       "    </tr>\n",
       "    <tr>\n",
       "      <th>39</th>\n",
       "      <td>6.652488</td>\n",
       "      <td>4.324005</td>\n",
       "      <td>4.2</td>\n",
       "      <td>1</td>\n",
       "    </tr>\n",
       "    <tr>\n",
       "      <th>40</th>\n",
       "      <td>9.147197</td>\n",
       "      <td>3.510004</td>\n",
       "      <td>3.7</td>\n",
       "      <td>1</td>\n",
       "    </tr>\n",
       "    <tr>\n",
       "      <th>41</th>\n",
       "      <td>10.560745</td>\n",
       "      <td>4.434820</td>\n",
       "      <td>5.4</td>\n",
       "      <td>1</td>\n",
       "    </tr>\n",
       "    <tr>\n",
       "      <th>42</th>\n",
       "      <td>7.484255</td>\n",
       "      <td>5.182591</td>\n",
       "      <td>4.1</td>\n",
       "      <td>1</td>\n",
       "    </tr>\n",
       "    <tr>\n",
       "      <th>43</th>\n",
       "      <td>8.520807</td>\n",
       "      <td>4.690707</td>\n",
       "      <td>5.7</td>\n",
       "      <td>1</td>\n",
       "    </tr>\n",
       "    <tr>\n",
       "      <th>44</th>\n",
       "      <td>4.999414</td>\n",
       "      <td>4.542801</td>\n",
       "      <td>3.6</td>\n",
       "      <td>1</td>\n",
       "    </tr>\n",
       "    <tr>\n",
       "      <th>45</th>\n",
       "      <td>8.692092</td>\n",
       "      <td>4.137739</td>\n",
       "      <td>7.3</td>\n",
       "      <td>1</td>\n",
       "    </tr>\n",
       "    <tr>\n",
       "      <th>46</th>\n",
       "      <td>8.085760</td>\n",
       "      <td>3.195710</td>\n",
       "      <td>4.2</td>\n",
       "      <td>1</td>\n",
       "    </tr>\n",
       "    <tr>\n",
       "      <th>47</th>\n",
       "      <td>6.203978</td>\n",
       "      <td>3.999775</td>\n",
       "      <td>3.7</td>\n",
       "      <td>1</td>\n",
       "    </tr>\n",
       "    <tr>\n",
       "      <th>48</th>\n",
       "      <td>5.058109</td>\n",
       "      <td>4.405586</td>\n",
       "      <td>5.4</td>\n",
       "      <td>1</td>\n",
       "    </tr>\n",
       "  </tbody>\n",
       "</table>\n",
       "</div>"
      ],
      "text/plain": [
       "           PH  Turbidity  temperature  Potability\n",
       "0    3.716080   2.963135          4.3           0\n",
       "1    8.099124   4.500656          5.9           0\n",
       "2    8.316766   3.055934          4.3           0\n",
       "3    9.092223   4.628771          7.5           0\n",
       "4    5.584087   4.075075          4.5           0\n",
       "5   10.223862   2.559708          3.9           0\n",
       "6    8.635849   2.672989          5.4           0\n",
       "7   11.180284   4.401425          4.3           0\n",
       "8    7.360640   3.595017          5.9           0\n",
       "9    7.974522   4.370562          4.3           0\n",
       "10   7.119824   3.662292          7.5           0\n",
       "11   7.496232   4.011718          4.5           0\n",
       "12   6.347272   3.445756          3.9           0\n",
       "13   7.051786   4.413974          5.4           0\n",
       "14   9.181560   4.777382          4.3           0\n",
       "15   8.975464   4.376348          5.9           0\n",
       "16   7.371050   4.268429          4.3           0\n",
       "17   6.660212   4.503661          7.5           0\n",
       "18   3.902476   2.436086          4.5           0\n",
       "19   5.400302   2.560299          3.9           0\n",
       "20   6.514415   4.133423          5.4           0\n",
       "21   3.445062   3.749701          4.3           0\n",
       "22   7.181449   5.459251          5.9           0\n",
       "23   9.825490   4.528523          4.3           0\n",
       "24  10.433291   4.824786          7.5           1\n",
       "25   7.414148   5.200885          4.5           1\n",
       "26   5.115817   4.184397          3.9           1\n",
       "27   3.641630   4.004871          5.4           1\n",
       "28   5.618064   3.991564          4.1           1\n",
       "29   9.267188   6.038185          5.7           1\n",
       "30   5.331940   5.088860          3.6           1\n",
       "31   7.145772   2.857472          7.3           1\n",
       "32   9.920691   5.057311          4.2           1\n",
       "33   4.758439   3.160624          3.7           1\n",
       "34   5.702926   5.029167          5.4           1\n",
       "35   6.953864   3.902089          4.1           1\n",
       "36  10.682966   3.464353          5.7           1\n",
       "37   8.757257   2.896547          3.6           1\n",
       "38   7.809632   2.907564          7.3           1\n",
       "39   6.652488   4.324005          4.2           1\n",
       "40   9.147197   3.510004          3.7           1\n",
       "41  10.560745   4.434820          5.4           1\n",
       "42   7.484255   5.182591          4.1           1\n",
       "43   8.520807   4.690707          5.7           1\n",
       "44   4.999414   4.542801          3.6           1\n",
       "45   8.692092   4.137739          7.3           1\n",
       "46   8.085760   3.195710          4.2           1\n",
       "47   6.203978   3.999775          3.7           1\n",
       "48   5.058109   4.405586          5.4           1"
      ]
     },
     "execution_count": 34,
     "metadata": {},
     "output_type": "execute_result"
    }
   ],
   "source": [
    "Input_Data = pd.read_csv(\"data.csv\")\n",
    "Input_Data"
   ]
  },
  {
   "cell_type": "markdown",
   "id": "f0f3e5d9",
   "metadata": {},
   "source": [
    "# Datasets Pre-Processing"
   ]
  },
  {
   "cell_type": "code",
   "execution_count": 35,
   "id": "ab8866ea",
   "metadata": {},
   "outputs": [
    {
     "data": {
      "text/html": [
       "<div>\n",
       "<style scoped>\n",
       "    .dataframe tbody tr th:only-of-type {\n",
       "        vertical-align: middle;\n",
       "    }\n",
       "\n",
       "    .dataframe tbody tr th {\n",
       "        vertical-align: top;\n",
       "    }\n",
       "\n",
       "    .dataframe thead th {\n",
       "        text-align: right;\n",
       "    }\n",
       "</style>\n",
       "<table border=\"1\" class=\"dataframe\">\n",
       "  <thead>\n",
       "    <tr style=\"text-align: right;\">\n",
       "      <th></th>\n",
       "      <th>PH</th>\n",
       "      <th>Turbidity</th>\n",
       "      <th>temperature</th>\n",
       "      <th>Potability</th>\n",
       "    </tr>\n",
       "  </thead>\n",
       "  <tbody>\n",
       "    <tr>\n",
       "      <th>0</th>\n",
       "      <td>3.716080</td>\n",
       "      <td>2.963135</td>\n",
       "      <td>4.3</td>\n",
       "      <td>0</td>\n",
       "    </tr>\n",
       "    <tr>\n",
       "      <th>1</th>\n",
       "      <td>8.099124</td>\n",
       "      <td>4.500656</td>\n",
       "      <td>5.9</td>\n",
       "      <td>0</td>\n",
       "    </tr>\n",
       "    <tr>\n",
       "      <th>2</th>\n",
       "      <td>8.316766</td>\n",
       "      <td>3.055934</td>\n",
       "      <td>4.3</td>\n",
       "      <td>0</td>\n",
       "    </tr>\n",
       "    <tr>\n",
       "      <th>3</th>\n",
       "      <td>9.092223</td>\n",
       "      <td>4.628771</td>\n",
       "      <td>7.5</td>\n",
       "      <td>0</td>\n",
       "    </tr>\n",
       "    <tr>\n",
       "      <th>4</th>\n",
       "      <td>5.584087</td>\n",
       "      <td>4.075075</td>\n",
       "      <td>4.5</td>\n",
       "      <td>0</td>\n",
       "    </tr>\n",
       "  </tbody>\n",
       "</table>\n",
       "</div>"
      ],
      "text/plain": [
       "         PH  Turbidity  temperature  Potability\n",
       "0  3.716080   2.963135          4.3           0\n",
       "1  8.099124   4.500656          5.9           0\n",
       "2  8.316766   3.055934          4.3           0\n",
       "3  9.092223   4.628771          7.5           0\n",
       "4  5.584087   4.075075          4.5           0"
      ]
     },
     "execution_count": 35,
     "metadata": {},
     "output_type": "execute_result"
    }
   ],
   "source": [
    "Input_Data.head()"
   ]
  },
  {
   "cell_type": "code",
   "execution_count": 36,
   "id": "80c1f61d",
   "metadata": {},
   "outputs": [
    {
     "data": {
      "text/html": [
       "<div>\n",
       "<style scoped>\n",
       "    .dataframe tbody tr th:only-of-type {\n",
       "        vertical-align: middle;\n",
       "    }\n",
       "\n",
       "    .dataframe tbody tr th {\n",
       "        vertical-align: top;\n",
       "    }\n",
       "\n",
       "    .dataframe thead th {\n",
       "        text-align: right;\n",
       "    }\n",
       "</style>\n",
       "<table border=\"1\" class=\"dataframe\">\n",
       "  <thead>\n",
       "    <tr style=\"text-align: right;\">\n",
       "      <th></th>\n",
       "      <th>PH</th>\n",
       "      <th>Turbidity</th>\n",
       "      <th>temperature</th>\n",
       "      <th>Potability</th>\n",
       "    </tr>\n",
       "  </thead>\n",
       "  <tbody>\n",
       "    <tr>\n",
       "      <th>44</th>\n",
       "      <td>4.999414</td>\n",
       "      <td>4.542801</td>\n",
       "      <td>3.6</td>\n",
       "      <td>1</td>\n",
       "    </tr>\n",
       "    <tr>\n",
       "      <th>45</th>\n",
       "      <td>8.692092</td>\n",
       "      <td>4.137739</td>\n",
       "      <td>7.3</td>\n",
       "      <td>1</td>\n",
       "    </tr>\n",
       "    <tr>\n",
       "      <th>46</th>\n",
       "      <td>8.085760</td>\n",
       "      <td>3.195710</td>\n",
       "      <td>4.2</td>\n",
       "      <td>1</td>\n",
       "    </tr>\n",
       "    <tr>\n",
       "      <th>47</th>\n",
       "      <td>6.203978</td>\n",
       "      <td>3.999775</td>\n",
       "      <td>3.7</td>\n",
       "      <td>1</td>\n",
       "    </tr>\n",
       "    <tr>\n",
       "      <th>48</th>\n",
       "      <td>5.058109</td>\n",
       "      <td>4.405586</td>\n",
       "      <td>5.4</td>\n",
       "      <td>1</td>\n",
       "    </tr>\n",
       "  </tbody>\n",
       "</table>\n",
       "</div>"
      ],
      "text/plain": [
       "          PH  Turbidity  temperature  Potability\n",
       "44  4.999414   4.542801          3.6           1\n",
       "45  8.692092   4.137739          7.3           1\n",
       "46  8.085760   3.195710          4.2           1\n",
       "47  6.203978   3.999775          3.7           1\n",
       "48  5.058109   4.405586          5.4           1"
      ]
     },
     "execution_count": 36,
     "metadata": {},
     "output_type": "execute_result"
    }
   ],
   "source": [
    "Input_Data.tail()"
   ]
  },
  {
   "cell_type": "code",
   "execution_count": 37,
   "id": "7f883a53",
   "metadata": {},
   "outputs": [
    {
     "name": "stdout",
     "output_type": "stream",
     "text": [
      "<class 'pandas.core.frame.DataFrame'>\n",
      "RangeIndex: 49 entries, 0 to 48\n",
      "Data columns (total 4 columns):\n",
      " #   Column       Non-Null Count  Dtype  \n",
      "---  ------       --------------  -----  \n",
      " 0   PH           49 non-null     float64\n",
      " 1   Turbidity    49 non-null     float64\n",
      " 2   temperature  49 non-null     float64\n",
      " 3   Potability   49 non-null     int64  \n",
      "dtypes: float64(3), int64(1)\n",
      "memory usage: 1.7 KB\n"
     ]
    }
   ],
   "source": [
    "Input_Data.info()"
   ]
  },
  {
   "cell_type": "code",
   "execution_count": 38,
   "id": "455a3185",
   "metadata": {},
   "outputs": [
    {
     "data": {
      "text/html": [
       "<div>\n",
       "<style scoped>\n",
       "    .dataframe tbody tr th:only-of-type {\n",
       "        vertical-align: middle;\n",
       "    }\n",
       "\n",
       "    .dataframe tbody tr th {\n",
       "        vertical-align: top;\n",
       "    }\n",
       "\n",
       "    .dataframe thead th {\n",
       "        text-align: right;\n",
       "    }\n",
       "</style>\n",
       "<table border=\"1\" class=\"dataframe\">\n",
       "  <thead>\n",
       "    <tr style=\"text-align: right;\">\n",
       "      <th></th>\n",
       "      <th>PH</th>\n",
       "      <th>Turbidity</th>\n",
       "      <th>temperature</th>\n",
       "      <th>Potability</th>\n",
       "    </tr>\n",
       "  </thead>\n",
       "  <tbody>\n",
       "    <tr>\n",
       "      <th>count</th>\n",
       "      <td>49.000000</td>\n",
       "      <td>49.000000</td>\n",
       "      <td>49.000000</td>\n",
       "      <td>49.000000</td>\n",
       "    </tr>\n",
       "    <tr>\n",
       "      <th>mean</th>\n",
       "      <td>7.359480</td>\n",
       "      <td>4.044541</td>\n",
       "      <td>5.004082</td>\n",
       "      <td>0.510204</td>\n",
       "    </tr>\n",
       "    <tr>\n",
       "      <th>std</th>\n",
       "      <td>1.987684</td>\n",
       "      <td>0.834371</td>\n",
       "      <td>1.222695</td>\n",
       "      <td>0.505076</td>\n",
       "    </tr>\n",
       "    <tr>\n",
       "      <th>min</th>\n",
       "      <td>3.445062</td>\n",
       "      <td>2.436086</td>\n",
       "      <td>3.600000</td>\n",
       "      <td>0.000000</td>\n",
       "    </tr>\n",
       "    <tr>\n",
       "      <th>25%</th>\n",
       "      <td>5.702926</td>\n",
       "      <td>3.464353</td>\n",
       "      <td>4.100000</td>\n",
       "      <td>0.000000</td>\n",
       "    </tr>\n",
       "    <tr>\n",
       "      <th>50%</th>\n",
       "      <td>7.371050</td>\n",
       "      <td>4.137739</td>\n",
       "      <td>4.500000</td>\n",
       "      <td>1.000000</td>\n",
       "    </tr>\n",
       "    <tr>\n",
       "      <th>75%</th>\n",
       "      <td>8.757257</td>\n",
       "      <td>4.528523</td>\n",
       "      <td>5.700000</td>\n",
       "      <td>1.000000</td>\n",
       "    </tr>\n",
       "    <tr>\n",
       "      <th>max</th>\n",
       "      <td>11.180284</td>\n",
       "      <td>6.038185</td>\n",
       "      <td>7.500000</td>\n",
       "      <td>1.000000</td>\n",
       "    </tr>\n",
       "  </tbody>\n",
       "</table>\n",
       "</div>"
      ],
      "text/plain": [
       "              PH  Turbidity  temperature  Potability\n",
       "count  49.000000  49.000000    49.000000   49.000000\n",
       "mean    7.359480   4.044541     5.004082    0.510204\n",
       "std     1.987684   0.834371     1.222695    0.505076\n",
       "min     3.445062   2.436086     3.600000    0.000000\n",
       "25%     5.702926   3.464353     4.100000    0.000000\n",
       "50%     7.371050   4.137739     4.500000    1.000000\n",
       "75%     8.757257   4.528523     5.700000    1.000000\n",
       "max    11.180284   6.038185     7.500000    1.000000"
      ]
     },
     "execution_count": 38,
     "metadata": {},
     "output_type": "execute_result"
    }
   ],
   "source": [
    "Input_Data.describe()"
   ]
  },
  {
   "cell_type": "code",
   "execution_count": 39,
   "id": "c87fdf40",
   "metadata": {},
   "outputs": [
    {
     "data": {
      "text/plain": [
       "Potability\n",
       "1    25\n",
       "0    24\n",
       "dtype: int64"
      ]
     },
     "execution_count": 39,
     "metadata": {},
     "output_type": "execute_result"
    }
   ],
   "source": [
    "Input_Data.value_counts('Potability')"
   ]
  },
  {
   "cell_type": "code",
   "execution_count": 40,
   "id": "2aeca062",
   "metadata": {},
   "outputs": [
    {
     "data": {
      "text/plain": [
       "PH             0\n",
       "Turbidity      0\n",
       "temperature    0\n",
       "Potability     0\n",
       "dtype: int64"
      ]
     },
     "execution_count": 40,
     "metadata": {},
     "output_type": "execute_result"
    }
   ],
   "source": [
    "Input_Data.isna().sum()"
   ]
  },
  {
   "cell_type": "markdown",
   "id": "49638d05",
   "metadata": {},
   "source": [
    "# Data Visualiation : Explorartory Data Analysis"
   ]
  },
  {
   "cell_type": "code",
   "execution_count": 41,
   "id": "6003d43e",
   "metadata": {},
   "outputs": [
    {
     "data": {
      "text/plain": [
       "<AxesSubplot: >"
      ]
     },
     "execution_count": 41,
     "metadata": {},
     "output_type": "execute_result"
    },
    {
     "data": {
      "image/png": "[encoded data removed]",
      "text/plain": [
       "<Figure size 640x480 with 1 Axes>"
      ]
     },
     "metadata": {},
     "output_type": "display_data"
    }
   ],
   "source": [
    "Input_Data.groupby('Potability').size().plot(kind='pie')"
   ]
  },
  {
   "cell_type": "code",
   "execution_count": 42,
   "id": "99ab5329",
   "metadata": {},
   "outputs": [
    {
     "data": {
      "image/png": "[encoded data removed]",
      "text/plain": [
       "<Figure size 640x480 with 1 Axes>"
      ]
     },
     "metadata": {},
     "output_type": "display_data"
    }
   ],
   "source": [
    "# count plot on single categorical variable\n",
    "sns.countplot(x ='Potability', data = Input_Data)\n",
    " \n",
    "# Show the plot\n",
    "plt.show()"
   ]
  },
  {
   "cell_type": "code",
   "execution_count": 43,
   "id": "1e56449c",
   "metadata": {},
   "outputs": [
    {
     "data": {
      "text/plain": [
       "<AxesSubplot: xlabel='PH'>"
      ]
     },
     "execution_count": 43,
     "metadata": {},
     "output_type": "execute_result"
    },
    {
     "data": {
      "image/png": "[encoded data removed]",
      "text/plain": [
       "<Figure size 640x480 with 1 Axes>"
      ]
     },
     "metadata": {},
     "output_type": "display_data"
    }
   ],
   "source": [
    "sns.distplot(a=Input_Data['PH'], kde=False)"
   ]
  },
  {
   "cell_type": "code",
   "execution_count": 44,
   "id": "eeb2b246",
   "metadata": {},
   "outputs": [],
   "source": [
    "sns.distplot(a=Input_Data['Turbidity'], kde=False)"
   ]
  },
  {
   "cell_type": "code",
   "execution_count": null,
   "id": "e1d56d87",
   "metadata": {},
   "outputs": [],
   "source": [
    "sns.distplot(a=Input_Data['temperature'], kde=False)\n"
   ]
  },
  {
   "cell_type": "code",
   "execution_count": null,
   "id": "d794dfdb",
   "metadata": {},
   "outputs": [],
   "source": [
    "sns.kdeplot(data=Input_Data['PH'], shade=True)"
   ]
  },
  {
   "cell_type": "code",
   "execution_count": null,
   "id": "cea87127",
   "metadata": {},
   "outputs": [],
   "source": [
    "sns.kdeplot(data=Input_Data['Turbidity'], shade=True)"
   ]
  },
  {
   "cell_type": "code",
   "execution_count": null,
   "id": "6639e931",
   "metadata": {},
   "outputs": [],
   "source": [
    "sns.kdeplot(data=Input_Data['temperature'], shade=True)"
   ]
  },
  {
   "cell_type": "code",
   "execution_count": null,
   "id": "bca20586",
   "metadata": {},
   "outputs": [],
   "source": [
    "import seaborn as sns\n",
    "corr = Input_Data.corr()\n",
    "plt.subplots(figsize=(5,5))\n",
    "sns.heatmap(corr, annot = True)"
   ]
  },
  {
   "cell_type": "code",
   "execution_count": null,
   "id": "c6977506",
   "metadata": {},
   "outputs": [],
   "source": [
    "# !pip install pandas_profiling\n",
    "from pandas_profiling import ProfileReport\n",
    "profile = ProfileReport(Input_Data, title=\"Report for our Project\", explorative=True)\n",
    "profile.to_notebook_iframe()"
   ]
  },
  {
   "cell_type": "markdown",
   "id": "f7033bd0",
   "metadata": {},
   "source": [
    "# Model Implementation : Machine Learning Model"
   ]
  },
  {
   "cell_type": "code",
   "execution_count": null,
   "id": "ab241022",
   "metadata": {},
   "outputs": [],
   "source": [
    "Input = Input_Data.drop('Potability',axis =1)\n",
    "Input"
   ]
  },
  {
   "cell_type": "code",
   "execution_count": null,
   "id": "f5fbbe60",
   "metadata": {},
   "outputs": [],
   "source": [
    "Output = Input_Data['Potability']\n",
    "Output"
   ]
  },
  {
   "cell_type": "code",
   "execution_count": null,
   "id": "6514c81c",
   "metadata": {},
   "outputs": [],
   "source": [
    "from sklearn.model_selection import train_test_split\n",
    "X_train, X_test, y_train, y_test = train_test_split(Input, Output, test_size = 0.2, random_state=0)"
   ]
  },
  {
   "cell_type": "markdown",
   "id": "cc4978a9",
   "metadata": {},
   "source": [
    "# Random Forest Algorithm"
   ]
  },
  {
   "cell_type": "code",
   "execution_count": null,
   "id": "415bcc07",
   "metadata": {},
   "outputs": [],
   "source": [
    "from sklearn.ensemble import RandomForestClassifier\n",
    "from sklearn.metrics import accuracy_score\n",
    "classifier_RF = RandomForestClassifier()\n",
    "classifier_RF = classifier_RF.fit(X_train, y_train)\n",
    "y_pred_RF = classifier_RF.predict(X_test)\n",
    "Accuracy_RF = accuracy_score(y_test,y_pred_RF)\n",
    "print(\"Model Accuracy of Random Forest Algorithm:\",Accuracy_RF)"
   ]
  },
  {
   "cell_type": "markdown",
   "id": "64d56c10",
   "metadata": {},
   "source": [
    "# Confusion Matrix for Random Forest Algorithm"
   ]
  },
  {
   "cell_type": "code",
   "execution_count": null,
   "id": "69759a52",
   "metadata": {},
   "outputs": [],
   "source": [
    "from sklearn.metrics import classification_report, confusion_matrix, accuracy_score\n",
    "result = confusion_matrix(y_test, y_pred_RF)\n",
    "print(\"Confusion Matrix:\")\n",
    "print(result)\n",
    "f, ax=plt.subplots(figsize=(5,5))\n",
    "sns.heatmap(result,annot=True,linewidths=0.5,linecolor=\"red\",fmt=\".0f\",ax=ax)\n",
    "plt.xlabel(\"y_pred\")\n",
    "plt.ylabel(\"y_true\")\n",
    "plt.show()"
   ]
  },
  {
   "cell_type": "markdown",
   "id": "07a93b2f",
   "metadata": {},
   "source": [
    "# Classification Report for  Random Forest Algorithm"
   ]
  },
  {
   "cell_type": "code",
   "execution_count": null,
   "id": "a062a103",
   "metadata": {},
   "outputs": [],
   "source": [
    "result1 = classification_report(y_test, y_pred_RF)\n",
    "print(\"Classification Report:\",)\n",
    "print (result1)"
   ]
  },
  {
   "cell_type": "markdown",
   "id": "0030343e",
   "metadata": {},
   "source": [
    "# Naive Bayes Algorithm"
   ]
  },
  {
   "cell_type": "code",
   "execution_count": null,
   "id": "5545a776",
   "metadata": {},
   "outputs": [],
   "source": [
    "from sklearn.naive_bayes import GaussianNB\n",
    "NB = GaussianNB()\n",
    "NB.fit(X_train,y_train)\n",
    "predict_NB = NB.predict(X_test)\n",
    "Acuracy_NB = NB.score(X_test,predict_NB)\n",
    "print(\"Model Accuracy of Naive Bayes Algorithm:\",Acuracy_NB)"
   ]
  },
  {
   "cell_type": "markdown",
   "id": "b8e64709",
   "metadata": {},
   "source": [
    "# Confusion Matrix for Naive Bayes Algorithm"
   ]
  },
  {
   "cell_type": "code",
   "execution_count": null,
   "id": "453b3c8d",
   "metadata": {},
   "outputs": [],
   "source": [
    "# Making the Confusion Matrix  \n",
    "from sklearn.metrics import confusion_matrix  \n",
    "cm_NB = confusion_matrix(y_test, predict_NB)  \n",
    "print(\"Confusion Matrix:\")\n",
    "print(cm_NB)\n",
    "f, ax=plt.subplots(figsize=(5,5))\n",
    "sns.heatmap(cm_NB,annot=True,linewidths=0.5,linecolor=\"red\",fmt=\".0f\",ax=ax)\n",
    "plt.xlabel(\"y_pred\")\n",
    "plt.ylabel(\"y_true\")\n",
    "plt.show()"
   ]
  },
  {
   "cell_type": "markdown",
   "id": "8ca91ef7",
   "metadata": {},
   "source": [
    "# Classification Report for Naive Bayes Algorithm"
   ]
  },
  {
   "cell_type": "code",
   "execution_count": null,
   "id": "0ecef821",
   "metadata": {},
   "outputs": [],
   "source": [
    "cm_NB = classification_report(y_test, predict_NB)\n",
    "print(\"Classification Report:\",)\n",
    "print (cm_NB)"
   ]
  },
  {
   "cell_type": "markdown",
   "id": "09d335e6",
   "metadata": {},
   "source": [
    "# Comparison of all the Algorithm"
   ]
  },
  {
   "cell_type": "code",
   "execution_count": null,
   "id": "652554fa",
   "metadata": {},
   "outputs": [],
   "source": [
    "model_accuracy_knn_lr = pd.Series(data=[Accuracy_RF,Acuracy_NB], \n",
    "                index=['Random Forest','Naive Bayes'])\n",
    "fig= plt.figure(figsize=(5,5))\n",
    "model_accuracy_knn_lr.sort_values().plot.barh()\n",
    "plt.title('Model Accracy of all the Algorithm')"
   ]
  },
  {
   "cell_type": "code",
   "execution_count": null,
   "id": "457dc115",
   "metadata": {},
   "outputs": [],
   "source": []
  }
 ],
 "metadata": {
  "kernelspec": {
   "display_name": "Python 3 (ipykernel)",
   "language": "python",
   "name": "python3"
  },
  "language_info": {
   "codemirror_mode": {
    "name": "ipython",
    "version": 3
   },
   "file_extension": ".py",
   "mimetype": "text/x-python",
   "name": "python",
   "nbconvert_exporter": "python",
   "pygments_lexer": "ipython3",
   "version": "3.11.4"
  }
 },
 "nbformat": 4,
 "nbformat_minor": 5
}
